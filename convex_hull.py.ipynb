{
 "cells": [
  {
   "cell_type": "markdown",
   "id": "72c5bfd8",
   "metadata": {},
   "source": [
    "# Grahams Scan"
   ]
  },
  {
   "cell_type": "code",
   "execution_count": null,
   "id": "2fd55c60",
   "metadata": {
    "execution": {
     "iopub.execute_input": "2022-12-07T03:07:24.283938Z",
     "iopub.status.busy": "2022-12-07T03:07:24.283350Z",
     "iopub.status.idle": "2022-12-07T03:07:24.305797Z",
     "shell.execute_reply": "2022-12-07T03:07:24.304506Z",
     "shell.execute_reply.started": "2022-12-07T03:07:24.283878Z"
    }
   },
   "outputs": [],
   "source": [
    "from functools import cmp_to_key\n",
    "import time\n",
    "import matplotlib.pyplot as plt\n",
    "import numpy as np\n",
    "\n",
    "class coordinate_points:\n",
    "    def __init__(self,a,b):\n",
    "        self.a = a\n",
    "        self.b = b\n",
    "\n",
    "def Orient(x,y,z):\n",
    "    value = (y.b-x.b)*(z.a-y.a) - (y.a-x.a)*(z.b-y.b)\n",
    "    if value < 0:\n",
    "        return 2 #Here the line rotates aniclockwise.\n",
    "    elif value == 0:\n",
    "        return 0 # This is collinear\n",
    "    else:\n",
    "        return 1 #This is if line rotates clockwise\n",
    "\n",
    "# This is a global point to be used as reference\n",
    "ref_p0 = coordinate_points(0, 0)\n",
    "\n",
    "# function to find next to last stop\n",
    "def TopNext(stack):\n",
    "    return stack[-2]\n",
    "\n",
    "# Function to return distance squared\n",
    "def SquaredDist(point1, point2):\n",
    "    return ((point1.a - point2.a) **2 + (point1.b - point2.b) **2)\n",
    "\n",
    "# This function compares two points distance\n",
    "def distance_compare(point1, point2):\n",
    "\n",
    "    _orient = Orient(ref_p0, point1, point2)\n",
    "    if _orient == 0:\n",
    "        if SquaredDist(ref_p0, point2) >= SquaredDist(ref_p0, point1):\n",
    "            return -1\n",
    "        else:\n",
    "            return 1\n",
    "    else:\n",
    "        if _orient == 2:\n",
    "            return -1\n",
    "        else:\n",
    "            return 1\n",
    "\n",
    "def GrahamsScan(coordinates, _length):\n",
    "\n",
    "    # Finding the lowest point\n",
    "    startTime = time.time()\n",
    "    min_b = coordinates[0].b\n",
    "    _min = 0\n",
    "    for k in range(1, _length):\n",
    "        b = coordinates[k].b\n",
    "        if ((b < min_b) or (min_b == b and coordinates[k].a < coordinates[_min].a)):\n",
    "            min_b = coordinates[k].b\n",
    "            _min = k\n",
    "\n",
    "    # Placing the last point at first position\n",
    "    coordinates[0], coordinates[_min] = coordinates[_min], coordinates[0]\n",
    "\n",
    "    # Sorting the points after comparing their polar angles\n",
    "    ref_p0 = coordinates[0]\n",
    "    coordinates = sorted(coordinates, key=cmp_to_key(distance_compare))\n",
    "\n",
    "    size_of_modified_array = 1 # intialization of modified array size\n",
    "    for k in range(1, _length):\n",
    "        #checking the orientation and removing the points with same angle with reference to point 0\n",
    "        while ((k < _length - 1) and (Orient(ref_p0, coordinates[k], coordinates[k + 1]) == 0)):\n",
    "            k += 1\n",
    "        coordinates[size_of_modified_array] = coordinates[k]\n",
    "        size_of_modified_array += 1\n",
    "        \n",
    "\n",
    "    # If there are less than 3 points in modified array convex hull is not possible\n",
    "    if size_of_modified_array < 3:\n",
    "        return []\n",
    "\n",
    "    #Pushing 3 points in empty stack\n",
    "    _stack = []\n",
    "    _stack.append(coordinates[0])\n",
    "    _stack.append(coordinates[1])\n",
    "    _stack.append(coordinates[2])\n",
    "\n",
    "    #Scanning rest points leaving the above 3\n",
    "    for k in range(3, size_of_modified_array):\n",
    "        #Checking the convexity of points if two point is not convex then discard the last point\n",
    "        while ((len(_stack) > 1) and (Orient(_stack[-2], _stack[-1], coordinates[k]) != 2)):\n",
    "            _stack.pop()\n",
    "        _stack.append(coordinates[k])\n",
    "        \n",
    "    TotalTime = time.time() - startTime\n",
    "    print(\"Data Set Size =\",_length,\"Time Taken =\",TotalTime)\n",
    "    \n",
    "    return TotalTime"
   ]
  },
  {
   "cell_type": "code",
   "execution_count": 544,
   "id": "5205313c",
   "metadata": {
    "execution": {
     "iopub.execute_input": "2022-12-07T03:07:28.850452Z",
     "iopub.status.busy": "2022-12-07T03:07:28.849995Z",
     "iopub.status.idle": "2022-12-07T03:07:28.859125Z",
     "shell.execute_reply": "2022-12-07T03:07:28.856993Z",
     "shell.execute_reply.started": "2022-12-07T03:07:28.850415Z"
    }
   },
   "outputs": [],
   "source": [
    "def start_grahams_scan(size_of_dataset):\n",
    "    _time = []\n",
    "    for size in size_of_dataset:\n",
    "        _points = np.random.randint(20,size=(size,2)) #Randomly Generating integers for grahams scan\n",
    "        #Now we will create list of point object taking the above randomized point\n",
    "        input_list = list(map(tuple,_points))\n",
    "        coordinates = [coordinate_points(a, b) for (a, b) in input_list] #Here the flat function converts numpy array to 1d here 1::2 means starting from index 1 in steps of 2.\n",
    "        #Calling the function to get coordinates after graham scan.\n",
    "        _time.append(GrahamsScan(coordinates,len(coordinates)))\n",
    "    plt.plot(size_of_dataset,_time)\n",
    "    plt.show()"
   ]
  },
  {
   "cell_type": "code",
   "execution_count": 481,
   "id": "0a67cd9d",
   "metadata": {},
   "outputs": [
    {
     "name": "stdout",
     "output_type": "stream",
     "text": [
      "Data Set Size = 10 Time Taken = 0.0\n",
      "\n",
      "Data Set Size = 100 Time Taken = 0.001996278762817383\n",
      "\n",
      "Data Set Size = 1000 Time Taken = 0.04634213447570801\n",
      "\n",
      "Data Set Size = 10000 Time Taken = 0.2149052619934082\n",
      "\n",
      "Data Set Size = 100000 Time Taken = 2.5371272563934326\n",
      "\n",
      "Data Set Size = 1000000 Time Taken = 24.03463053703308\n",
      "\n",
      "Data Set Size = 10000000 Time Taken = 272.5233745574951\n"
     ]
    },
    {
     "data": {
      "image/png": "[encoded data removed]",
      "text/plain": [
       "<Figure size 432x288 with 1 Axes>"
      ]
     },
     "metadata": {
      "needs_background": "light"
     },
     "output_type": "display_data"
    }
   ],
   "source": [
    "start_grahams_scan([10,100,1000,10000,100000,1000000,10000000])"
   ]
  },
  {
   "cell_type": "code",
   "execution_count": 482,
   "id": "1b949ab4",
   "metadata": {},
   "outputs": [
    {
     "name": "stdout",
     "output_type": "stream",
     "text": [
      "Data Set Size = 10 Time Taken = 0.003391265869140625\n",
      "\n",
      "Data Set Size = 100 Time Taken = 0.003002643585205078\n",
      "\n",
      "Data Set Size = 1000 Time Taken = 0.01752924919128418\n",
      "\n",
      "Data Set Size = 10000 Time Taken = 0.21298480033874512\n",
      "\n",
      "Data Set Size = 100000 Time Taken = 2.310938835144043\n",
      "\n",
      "Data Set Size = 1000000 Time Taken = 24.64509344100952\n",
      "\n",
      "Data Set Size = 10000000 Time Taken = 306.3037574291229\n"
     ]
    },
    {
     "data": {
      "image/png": "[encoded data removed]",
      "text/plain": [
       "<Figure size 432x288 with 1 Axes>"
      ]
     },
     "metadata": {
      "needs_background": "light"
     },
     "output_type": "display_data"
    }
   ],
   "source": [
    "start_grahams_scan([10,100,1000,10000,100000,1000000,10000000])"
   ]
  },
  {
   "cell_type": "code",
   "execution_count": 485,
   "id": "f66f073b",
   "metadata": {},
   "outputs": [
    {
     "name": "stdout",
     "output_type": "stream",
     "text": [
      "Data Set Size = 10 Time Taken = 0.002993345260620117\n",
      "\n",
      "Data Set Size = 100 Time Taken = 0.0010066032409667969\n",
      "\n",
      "Data Set Size = 1000 Time Taken = 0.014999866485595703\n",
      "\n",
      "Data Set Size = 10000 Time Taken = 0.20911216735839844\n",
      "\n",
      "Data Set Size = 100000 Time Taken = 2.4298465251922607\n",
      "\n",
      "Data Set Size = 1000000 Time Taken = 24.658456563949585\n",
      "\n",
      "Data Set Size = 10000000 Time Taken = 262.1173400878906\n"
     ]
    },
    {
     "data": {
      "image/png": "[encoded data removed]",
      "text/plain": [
       "<Figure size 432x288 with 1 Axes>"
      ]
     },
     "metadata": {
      "needs_background": "light"
     },
     "output_type": "display_data"
    }
   ],
   "source": [
    "start_grahams_scan([10,100,1000,10000,100000,1000000,10000000])"
   ]
  },
  {
   "cell_type": "code",
   "execution_count": null,
   "id": "6ae4ca04",
   "metadata": {},
   "outputs": [],
   "source": []
  },
  {
   "cell_type": "code",
   "execution_count": null,
   "id": "df687ae0",
   "metadata": {},
   "outputs": [],
   "source": [
    "start_grahams_scan([10,100,1000,10000,100000,1000000,10000000,100000000,1000000000])"
   ]
  },
  {
   "cell_type": "markdown",
   "id": "511b304c",
   "metadata": {},
   "source": [
    "# Jarvis March"
   ]
  },
  {
   "cell_type": "code",
   "execution_count": 457,
   "id": "9bc9f5d2",
   "metadata": {},
   "outputs": [],
   "source": []
  },
  {
   "cell_type": "code",
   "execution_count": 545,
   "id": "e7a27e9f",
   "metadata": {
    "execution": {
     "iopub.execute_input": "2022-12-07T02:55:39.687820Z",
     "iopub.status.busy": "2022-12-07T02:55:39.686926Z",
     "iopub.status.idle": "2022-12-07T02:55:39.698855Z",
     "shell.execute_reply": "2022-12-07T02:55:39.697336Z",
     "shell.execute_reply.started": "2022-12-07T02:55:39.687740Z"
    }
   },
   "outputs": [],
   "source": [
    "def JarvisMarch(coordinates, _length):\n",
    "    startTime = time.time()\n",
    "    if _length < 3:\n",
    "        return []\n",
    "  \n",
    "    #Scanning the left most point\n",
    "    _minimum = 0\n",
    "    for k in range(1,_length):\n",
    "        if coordinates[k].a < coordinates[_minimum].a:\n",
    "            _minimum = k\n",
    "        elif coordinates[k].a == coordinates[_minimum].a:\n",
    "            if coordinates[k].b > coordinates[_minimum].b:\n",
    "                _minimum = k\n",
    "    \n",
    "  \n",
    "    convex_hull = []\n",
    "    #Starting from the left most point moving counterclockwise to reach starting point.\n",
    "    g = _minimum\n",
    "    m = 0\n",
    "    while(True):\n",
    "        convex_hull.append(g)\n",
    "        # Searching a point m which is counterclockwise for all the points k.\n",
    "        m = (g + 1)%_length\n",
    "  \n",
    "        for k in range(_length):\n",
    "            #Checking orientation here to find the most counterclowise k.\n",
    "            if(Orient(coordinates[g], coordinates[k], coordinates[m]) == 2):\n",
    "                m = k\n",
    "  \n",
    "        # Here we set g to m because g will be referenced now for next iteration\n",
    "        g = m\n",
    "  \n",
    "        # Our goal is reached when we find first point again\n",
    "        if(g == _minimum):\n",
    "            break\n",
    "                   \n",
    "                   \n",
    "    TotalTime = time.time() - startTime\n",
    "    print(\"Data Set Size =\",_length,\"Time Taken =\",TotalTime)\n",
    "    \n",
    "    return TotalTime\n",
    "    \n",
    "  \n"
   ]
  },
  {
   "cell_type": "code",
   "execution_count": 546,
   "id": "b793ab73",
   "metadata": {
    "execution": {
     "iopub.execute_input": "2022-12-07T02:55:39.701159Z",
     "iopub.status.busy": "2022-12-07T02:55:39.700381Z",
     "iopub.status.idle": "2022-12-07T02:55:39.713978Z",
     "shell.execute_reply": "2022-12-07T02:55:39.712810Z",
     "shell.execute_reply.started": "2022-12-07T02:55:39.701110Z"
    }
   },
   "outputs": [],
   "source": [
    "def start_jarvis_march(size_of_dataset):\n",
    "    _time = []\n",
    "    for size in size_of_dataset:\n",
    "        _points = np.random.randint(40,size=(size,2)) #Randomly Generating integers for jarvis march\n",
    "        #Now we will create list of point object taking the above randomized point\n",
    "        input_list = list(map(tuple,_points))\n",
    "        coordinates = [coordinate_points(a, b) for (a, b) in input_list]\n",
    "        #Calling the function to get coordinates after jarvis's march.\n",
    "        _time.append(JarvisMarch(coordinates,len(coordinates)))\n",
    "    plt.plot(size_of_dataset,_time)\n",
    "    plt.show()"
   ]
  },
  {
   "cell_type": "code",
   "execution_count": 10,
   "id": "fff3dc42",
   "metadata": {
    "execution": {
     "iopub.execute_input": "2022-12-07T02:56:39.998501Z",
     "iopub.status.busy": "2022-12-07T02:56:39.998006Z",
     "iopub.status.idle": "2022-12-07T02:57:33.324335Z",
     "shell.execute_reply": "2022-12-07T02:57:33.323065Z",
     "shell.execute_reply.started": "2022-12-07T02:56:39.998464Z"
    }
   },
   "outputs": [
    {
     "name": "stdout",
     "output_type": "stream",
     "text": [
      "Data Set Size = 10 Time Taken = 0.000133514404296875\n",
      "Data Set Size = 100 Time Taken = 0.0016934871673583984\n",
      "Data Set Size = 1000 Time Taken = 0.025521278381347656\n",
      "Data Set Size = 10000 Time Taken = 0.29172372817993164\n",
      "Data Set Size = 100000 Time Taken = 3.003873586654663\n",
      "Data Set Size = 1000000 Time Taken = 23.810930252075195\n",
      "Data Set Size = 1000000 Time Taken = 19.89277219772339\n"
     ]
    },
    {
     "data": {
      "image/png": "[encoded data removed]",
      "text/plain": [
       "<Figure size 432x288 with 1 Axes>"
      ]
     },
     "metadata": {
      "needs_background": "light"
     },
     "output_type": "display_data"
    }
   ],
   "source": [
    "start_jarvis_march([10,100,1000,10000,100000,1000000,1000000])"
   ]
  },
  {
   "cell_type": "code",
   "execution_count": 12,
   "id": "895acc2c",
   "metadata": {
    "execution": {
     "iopub.execute_input": "2022-12-07T03:01:57.971221Z",
     "iopub.status.busy": "2022-12-07T03:01:57.970854Z",
     "iopub.status.idle": "2022-12-07T03:05:29.491415Z",
     "shell.execute_reply": "2022-12-07T03:05:29.490240Z",
     "shell.execute_reply.started": "2022-12-07T03:01:57.971190Z"
    }
   },
   "outputs": [
    {
     "name": "stdout",
     "output_type": "stream",
     "text": [
      "Data Set Size = 1000000 Time Taken = 19.329484462738037\n",
      "Data Set Size = 10000000 Time Taken = 160.30113554000854\n"
     ]
    },
    {
     "data": {
      "image/png": "[encoded data removed]",
      "text/plain": [
       "<Figure size 432x288 with 1 Axes>"
      ]
     },
     "metadata": {
      "needs_background": "light"
     },
     "output_type": "display_data"
    }
   ],
   "source": [
    "start_jarvis_march([1000000,10000000])"
   ]
  },
  {
   "cell_type": "code",
   "execution_count": null,
   "id": "4715c35f",
   "metadata": {},
   "outputs": [],
   "source": []
  },
  {
   "cell_type": "markdown",
   "id": "66e49bb0",
   "metadata": {},
   "source": [
    "# Comaprison Test on the same dataset"
   ]
  },
  {
   "cell_type": "code",
   "execution_count": 547,
   "id": "6a40de07",
   "metadata": {
    "execution": {
     "iopub.execute_input": "2022-12-07T03:20:04.991943Z",
     "iopub.status.busy": "2022-12-07T03:20:04.991533Z",
     "iopub.status.idle": "2022-12-07T03:20:05.001228Z",
     "shell.execute_reply": "2022-12-07T03:20:04.999914Z",
     "shell.execute_reply.started": "2022-12-07T03:20:04.991861Z"
    }
   },
   "outputs": [],
   "source": [
    "def comapare_algorithms(size_of_dataset):\n",
    "    _time_graham = []\n",
    "    _time_jarvis = []\n",
    "    for size in size_of_dataset:\n",
    "        _points = np.random.randint(40,size=(size,2)) #Randomly Generating integers\n",
    "        #Now we will create list of point object taking the above randomized point\n",
    "        input_list = list(map(tuple,_points))\n",
    "        coordinates = [coordinate_points(a, b) for (a, b) in input_list]\n",
    "        #Calling the function to get coordinates after jarvis's march.\n",
    "        print(\"Jarvis March\")\n",
    "        _time_jarvis.append(JarvisMarch(coordinates,len(coordinates)))\n",
    "        print(\"Grahams Scan\")\n",
    "        _time_graham.append(GrahamsScan(coordinates,len(coordinates)))\n",
    "    plt.plot(size_of_dataset,_time_jarvis, label = \"jarvis march\")\n",
    "    plt.plot(size_of_dataset,_time_graham, label = \"grahams scan\")\n",
    "    plt.legend()\n",
    "    plt.show()"
   ]
  },
  {
   "cell_type": "code",
   "execution_count": 548,
   "id": "48774259",
   "metadata": {
    "execution": {
     "iopub.execute_input": "2022-12-07T03:07:37.741875Z",
     "iopub.status.busy": "2022-12-07T03:07:37.741394Z",
     "iopub.status.idle": "2022-12-07T03:17:32.475522Z",
     "shell.execute_reply": "2022-12-07T03:17:32.473729Z",
     "shell.execute_reply.started": "2022-12-07T03:07:37.741837Z"
    }
   },
   "outputs": [
    {
     "name": "stdout",
     "output_type": "stream",
     "text": [
      "Jarvis March\n",
      "Data Set Size = 100 Time Taken = 0.0029997825622558594\n",
      "Grahams Scan\n",
      "Data Set Size = 100 Time Taken = 0.0020024776458740234\n",
      "Jarvis March\n",
      "Data Set Size = 1000 Time Taken = 0.018537044525146484\n",
      "Grahams Scan\n",
      "Data Set Size = 1000 Time Taken = 0.018021106719970703\n",
      "Jarvis March\n",
      "Data Set Size = 10000 Time Taken = 0.20769238471984863\n",
      "Grahams Scan\n",
      "Data Set Size = 10000 Time Taken = 0.4118809700012207\n",
      "Jarvis March\n",
      "Data Set Size = 100000 Time Taken = 1.3497893810272217\n",
      "Grahams Scan\n",
      "Data Set Size = 100000 Time Taken = 21.943246841430664\n"
     ]
    },
    {
     "data": {
      "image/png": "[encoded data removed]",
      "text/plain": [
       "<Figure size 432x288 with 1 Axes>"
      ]
     },
     "metadata": {
      "needs_background": "light"
     },
     "output_type": "display_data"
    }
   ],
   "source": [
    "comapare_algorithms([100,1000, 10000, 100000])"
   ]
  },
  {
   "cell_type": "code",
   "execution_count": 549,
   "id": "a8686f54",
   "metadata": {
    "execution": {
     "iopub.status.busy": "2022-12-07T03:06:34.394507Z",
     "iopub.status.idle": "2022-12-07T03:06:34.394958Z",
     "shell.execute_reply": "2022-12-07T03:06:34.394745Z",
     "shell.execute_reply.started": "2022-12-07T03:06:34.394717Z"
    }
   },
   "outputs": [
    {
     "name": "stdout",
     "output_type": "stream",
     "text": [
      "Jarvis March\n",
      "Data Set Size = 100 Time Taken = 0.0009953975677490234\n",
      "Grahams Scan\n",
      "Data Set Size = 100 Time Taken = 0.0\n",
      "Jarvis March\n",
      "Data Set Size = 1000 Time Taken = 0.022259235382080078\n",
      "Grahams Scan\n",
      "Data Set Size = 1000 Time Taken = 0.015474557876586914\n",
      "Jarvis March\n",
      "Data Set Size = 10000 Time Taken = 0.19605278968811035\n",
      "Grahams Scan\n",
      "Data Set Size = 10000 Time Taken = 0.4085557460784912\n",
      "Jarvis March\n",
      "Data Set Size = 100000 Time Taken = 1.3477058410644531\n",
      "Grahams Scan\n",
      "Data Set Size = 100000 Time Taken = 23.604417085647583\n"
     ]
    },
    {
     "data": {
      "image/png": "[encoded data removed]",
      "text/plain": [
       "<Figure size 432x288 with 1 Axes>"
      ]
     },
     "metadata": {
      "needs_background": "light"
     },
     "output_type": "display_data"
    }
   ],
   "source": [
    "comapare_algorithms([100,1000, 10000, 100000])"
   ]
  },
  {
   "cell_type": "code",
   "execution_count": 555,
   "id": "7f19a260",
   "metadata": {
    "execution": {
     "iopub.execute_input": "2022-12-07T03:20:09.074246Z",
     "iopub.status.busy": "2022-12-07T03:20:09.073835Z"
    }
   },
   "outputs": [
    {
     "name": "stdout",
     "output_type": "stream",
     "text": [
      "Jarvis March\n",
      "Data Set Size = 100 Time Taken = 0.0010023117065429688\n",
      "Grahams Scan\n",
      "Data Set Size = 100 Time Taken = 0.0009989738464355469\n",
      "Jarvis March\n",
      "Data Set Size = 1000 Time Taken = 0.0164492130279541\n",
      "Grahams Scan\n",
      "Data Set Size = 1000 Time Taken = 0.017029285430908203\n",
      "Jarvis March\n",
      "Data Set Size = 10000 Time Taken = 0.16208744049072266\n",
      "Grahams Scan\n",
      "Data Set Size = 10000 Time Taken = 0.39534568786621094\n",
      "Jarvis March\n",
      "Data Set Size = 100000 Time Taken = 1.5010044574737549\n",
      "Grahams Scan\n",
      "Data Set Size = 100000 Time Taken = 21.656955003738403\n"
     ]
    },
    {
     "data": {
      "image/png": "[encoded data removed]",
      "text/plain": [
       "<Figure size 432x288 with 1 Axes>"
      ]
     },
     "metadata": {
      "needs_background": "light"
     },
     "output_type": "display_data"
    }
   ],
   "source": [
    "comapare_algorithms([100,1000, 10000, 100000])"
   ]
  },
  {
   "cell_type": "code",
   "execution_count": 554,
   "id": "2411d11a",
   "metadata": {},
   "outputs": [
    {
     "name": "stdout",
     "output_type": "stream",
     "text": [
      "Jarvis March\n",
      "Data Set Size = 100 Time Taken = 0.0010030269622802734\n",
      "Grahams Scan\n",
      "Data Set Size = 100 Time Taken = 0.0010035037994384766\n",
      "Jarvis March\n",
      "Data Set Size = 1000 Time Taken = 0.016545772552490234\n",
      "Grahams Scan\n",
      "Data Set Size = 1000 Time Taken = 0.017023086547851562\n",
      "Jarvis March\n",
      "Data Set Size = 10000 Time Taken = 0.18813443183898926\n",
      "Grahams Scan\n",
      "Data Set Size = 10000 Time Taken = 0.4152247905731201\n",
      "Jarvis March\n",
      "Data Set Size = 100000 Time Taken = 2.2523584365844727\n",
      "Grahams Scan\n",
      "Data Set Size = 100000 Time Taken = 23.20590853691101\n"
     ]
    },
    {
     "data": {
      "image/png": "[encoded data removed]",
      "text/plain": [
       "<Figure size 432x288 with 1 Axes>"
      ]
     },
     "metadata": {
      "needs_background": "light"
     },
     "output_type": "display_data"
    }
   ],
   "source": [
    "comapare_algorithms([100,1000, 10000, 100000])"
   ]
  },
  {
   "cell_type": "code",
   "execution_count": 552,
   "id": "f1843a21",
   "metadata": {},
   "outputs": [
    {
     "name": "stdout",
     "output_type": "stream",
     "text": [
      "Jarvis March\n",
      "Data Set Size = 100 Time Taken = 0.0019881725311279297\n",
      "Grahams Scan\n",
      "Data Set Size = 100 Time Taken = 0.0010111331939697266\n",
      "Jarvis March\n",
      "Data Set Size = 1000 Time Taken = 0.014007091522216797\n",
      "Grahams Scan\n",
      "Data Set Size = 1000 Time Taken = 0.0160064697265625\n",
      "Jarvis March\n",
      "Data Set Size = 10000 Time Taken = 0.1550755500793457\n",
      "Grahams Scan\n",
      "Data Set Size = 10000 Time Taken = 0.4038684368133545\n",
      "Jarvis March\n",
      "Data Set Size = 100000 Time Taken = 1.3801705837249756\n",
      "Grahams Scan\n",
      "Data Set Size = 100000 Time Taken = 22.2816059589386\n"
     ]
    },
    {
     "data": {
      "image/png": "[encoded data removed]",
      "text/plain": [
       "<Figure size 432x288 with 1 Axes>"
      ]
     },
     "metadata": {
      "needs_background": "light"
     },
     "output_type": "display_data"
    }
   ],
   "source": [
    "comapare_algorithms([100,1000, 10000, 100000])"
   ]
  }
 ],
 "metadata": {
  "kernelspec": {
   "display_name": "Python 3 (ipykernel)",
   "language": "python",
   "name": "python3"
  },
  "language_info": {
   "codemirror_mode": {
    "name": "ipython",
    "version": 3
   },
   "file_extension": ".py",
   "mimetype": "text/x-python",
   "name": "python",
   "nbconvert_exporter": "python",
   "pygments_lexer": "ipython3",
   "version": "3.9.12"
  }
 },
 "nbformat": 4,
 "nbformat_minor": 5
}
